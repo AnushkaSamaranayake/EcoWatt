{
  "nbformat": 4,
  "nbformat_minor": 0,
  "metadata": {
    "colab": {
      "provenance": [],
      "authorship_tag": "ABX9TyMbQ3SPdZHwk55ON/u0QpuV",
      "include_colab_link": true
    },
    "kernelspec": {
      "name": "python3",
      "display_name": "Python 3"
    },
    "language_info": {
      "name": "python"
    }
  },
  "cells": [
    {
      "cell_type": "markdown",
      "metadata": {
        "id": "view-in-github",
        "colab_type": "text"
      },
      "source": [
        "<a href=\"https://colab.research.google.com/github/AnushkaSamaranayake/EcoWatt/blob/main/API_Check.ipynb\" target=\"_parent\"><img src=\"https://colab.research.google.com/assets/colab-badge.svg\" alt=\"Open In Colab\"/></a>"
      ]
    },
    {
      "cell_type": "code",
      "execution_count": 1,
      "metadata": {
        "colab": {
          "base_uri": "https://localhost:8080/"
        },
        "id": "4GpYpVI96uj8",
        "outputId": "6ee16203-ab50-48cb-bdb7-d375c6d5c763"
      },
      "outputs": [
        {
          "output_type": "stream",
          "name": "stdout",
          "text": [
            "200\n",
            "{'frame': '11030409040000A9AF'}\n"
          ]
        }
      ],
      "source": [
        "import requests\n",
        "\n",
        "url = \"http://20.15.114.131:8080/api/inverter/read\"\n",
        "headers = {\n",
        "    \"accept\": \"*/*\",\n",
        "    \"Authorization\": \"NjhhZWIwNDU1ZDdmMzg3MzNiMTQ5YWQ3OjY4YWViMDQ1NWQ3ZjM4NzMzYjE0OWFjZA==Changed\",\n",
        "    \"Content-Type\": \"application/json\"\n",
        "}\n",
        "data = {\n",
        "    \"frame\": \"110300000002C69B\"\n",
        "}\n",
        "\n",
        "response = requests.post(url, headers=headers, json=data)\n",
        "print(response.status_code)\n",
        "print(response.json())  # or response.text\n"
      ]
    }
  ]
}